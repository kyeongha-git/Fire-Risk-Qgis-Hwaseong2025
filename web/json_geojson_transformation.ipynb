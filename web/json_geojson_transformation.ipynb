{
 "cells": [
  {
   "cell_type": "code",
   "execution_count": 9,
   "id": "1b28a5bd-e950-4790-baa7-67423e19030c",
   "metadata": {},
   "outputs": [],
   "source": [
    "import json\n",
    "\n",
    "features = []\n",
    "with open('동탄도시첨단산업단지_최종스코어링_결과.geojsonl.json', 'r', encoding='utf-8') as f:\n",
    "    for line in f:\n",
    "        features.append(json.loads(line))\n",
    "\n",
    "geojson = {\n",
    "    \"type\": \"FeatureCollection\",\n",
    "    \"features\": features\n",
    "}\n",
    "\n",
    "with open('동탄도시첨단산업단지_최종스코어링_결과.geojson', 'w', encoding='utf-8') as f:\n",
    "    json.dump(geojson, f, ensure_ascii=False)"
   ]
  },
  {
   "cell_type": "code",
   "execution_count": null,
   "id": "4362e018-fd84-496d-9e63-5ef1b435022f",
   "metadata": {},
   "outputs": [],
   "source": []
  }
 ],
 "metadata": {
  "kernelspec": {
   "display_name": "Python 3 (ipykernel)",
   "language": "python",
   "name": "python3"
  },
  "language_info": {
   "codemirror_mode": {
    "name": "ipython",
    "version": 3
   },
   "file_extension": ".py",
   "mimetype": "text/x-python",
   "name": "python",
   "nbconvert_exporter": "python",
   "pygments_lexer": "ipython3",
   "version": "3.12.7"
  }
 },
 "nbformat": 4,
 "nbformat_minor": 5
}
